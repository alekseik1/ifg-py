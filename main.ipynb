{
 "cells": [
  {
   "cell_type": "markdown",
   "metadata": {},
   "source": [
    "Полное число частиц:\n",
    "\\begin{equation}\n",
    "    n = \\frac{N}{V} = \\frac{g m^{3 / 2}}{\\sqrt{2} \\pi^{2} \\hbar^{3}} \\int_{0}^{\\infty} \\frac{\\sqrt{\\varepsilon} d \\varepsilon}{e^{(\\varepsilon-\\mu) / T} + 1}\n",
    "    \\label{eq-N}\n",
    "\\end{equation}\n",
    "\n",
    "Энергия:\n",
    "\\begin{equation}\n",
    "    E=\\int_{0}^{\\infty} \\varepsilon d N_{\\varepsilon}=\\frac{g V m^{3 / 2}}{\\sqrt{2} \\pi^{2} \\hbar^{3}} \\int_{0}^{\\infty} \\frac{\\varepsilon^{3 / 2} d \\varepsilon}{e^{(\\varepsilon-\\mu) / T} + 1}\n",
    "    \\label{eq-E}\n",
    "\\end{equation}\n",
    "\n",
    "Для заданных $T, N/V$ надо найти $E$, а затем и $P$ по формуле:\n",
    "\\begin{equation}\n",
    "    PV = (2/3) E\n",
    "\\end{equation}"
   ]
  },
  {
   "cell_type": "markdown",
   "metadata": {},
   "source": [
    "\\begin{equation}\n",
    "    \\int_{0}^{\\infty} \\frac{\\varepsilon^{n/2} d \\varepsilon}{e^{\\varepsilon / T-\\mu / T} + 1} = \\left|\n",
    "    \\begin{array}\n",
    "        1\\varepsilon / T = t; & d\\varepsilon = T dt \\\\\n",
    "        \\varepsilon = t T;   & \\varepsilon^{n/2} = (t T)^{n/2} \\\\\n",
    "        \\mu / T = x & \\\\\n",
    "    \\end{array}\n",
    "    \\right| = \\int_{0}^{\\infty} \\frac{t^{n / 2} T^{n/2} T dt}{e^{t-x} + 1} = \n",
    "    T^{(n+2)/2} \\int_{0}^{\\infty} \\frac{t^{n / 2} dt}{e^{t-x} + 1} = \n",
    "\\end{equation}\n",
    "\\begin{equation}\n",
    "    = T^{(n+2)/2} \\, \\Gamma((n+2)/2) F_{n/2} (x) = T^{(n+2)/2} \\, \\Gamma\\left(\\frac{n+2}{2}\\right) F_{n/2} \\left(\\frac{\\mu}{T}\\right)\n",
    "\\end{equation}\n",
    "где $n = 1$ или $2$, а $T = kT'$, где $T'$ выражена в СИ (Кельвин). "
   ]
  },
  {
   "cell_type": "markdown",
   "metadata": {},
   "source": [
    "Для числа частиц имеем:\n",
    "\\begin{equation}\n",
    "    \\frac{E}{V} \\, \\frac{\\sqrt{2} \\pi^{2} \\hbar^{3}}{g m^{3 / 2}} - T^{3 / 2} \\Gamma(3/2) F_{1 / 2}\\left(\\frac{\\mu}{T}\\right) = 0\n",
    "\\end{equation}\n",
    "\n",
    "\\begin{equation}\n",
    "    F_{1 / 2}\\left(\\frac{\\mu}{T}\\right) = \\frac{E}{V} \\, \\frac{\\sqrt{2} \\pi^{2} \\hbar^{3}}{g m^{3 / 2}} \\frac{1}{ T^{3 / 2} \\Gamma(3/2) }\n",
    "\\end{equation}\n",
    "\n",
    "Отсюда получаем $\\mu$, а затем подставляем в выражение для $E$:\n",
    "\\begin{equation}\n",
    "    E = \\frac{g V m^{3 / 2}}{\\sqrt{2} \\pi^{2} \\hbar^{3}} \\int_{0}^{\\infty} \\frac{\\varepsilon^{3 / 2} d \\varepsilon}{e^{(\\varepsilon-\\mu) / T}+1} =\n",
    "    \\frac{g V m^{3 / 2}}{\\sqrt{2} \\pi^{2} \\hbar^{3}} T^{5 / 2} \\, \\Gamma(5/2) \\, F_{3 / 2}\\left(\\frac{\\mu}{T}\\right)\n",
    "\\end{equation}\n",
    "\n",
    "\\begin{equation}\n",
    "    P = (2/3) E/V = \\frac{\\sqrt{2}g m^{3 / 2}}{3 \\pi^{2} \\hbar^{3}} T^{5 / 2} \\, \\Gamma(5/2) \\, F_{3 / 2}\\left(\\frac{\\mu}{T}\\right)\n",
    "\\end{equation}"
   ]
  },
  {
   "cell_type": "code",
   "execution_count": 1,
   "metadata": {},
   "outputs": [],
   "source": [
    "from scipy.constants import electron_mass, hbar, pi, k, N_A, electron_volt\n",
    "from scipy.special import gamma\n",
    "from fdint import *\n",
    "import numpy as np\n",
    "from scipy.optimize import bisect, brentq"
   ]
  },
  {
   "cell_type": "code",
   "execution_count": 2,
   "metadata": {},
   "outputs": [],
   "source": [
    "def get_mu_from_N_div_V(n, T, g=2, m=electron_mass):\n",
    "    # T is in Kelvins!\n",
    "    T = T*k\n",
    "    F_right = n * (np.sqrt(2) * pi**2 * hbar**3 /(g*m**(3/2)) ) / (T**(3/2) * gamma(3/2))\n",
    "    # We find minimum order 10**n for optimization\n",
    "    fermi_int = lambda mu: fdk(k=0.5, phi=mu)\n",
    "    max_order = 0\n",
    "    # TODO: хим.потенциал может быть отрицательным!\n",
    "    # Подбираем порядок\n",
    "    while fermi_int(10**max_order) < F_right:\n",
    "        max_order += 1\n",
    "    # Если нужно пойти в отрицательные степени\n",
    "    if max_order == 0 and fermi_int(10**max_order) >= F_right:\n",
    "        while fermi_int(10 ** max_order) >= F_right:\n",
    "            max_order -= 1\n",
    "    max_order += 1\n",
    "    min_order = max_order - 2\n",
    "    tmp = lambda mu: fermi_int(mu) - F_right\n",
    "    mu = brentq(lambda mu: fermi_int(mu) - F_right, 10**min_order, 10**max_order)\n",
    "    return mu"
   ]
  },
  {
   "cell_type": "code",
   "execution_count": 66,
   "metadata": {},
   "outputs": [
    {
     "data": {
      "text/plain": [
       "0.0"
      ]
     },
     "execution_count": 66,
     "metadata": {},
     "output_type": "execute_result"
    }
   ],
   "source": [
    "fdk(0, 8) - np.log(1+np.exp(8))"
   ]
  },
  {
   "cell_type": "code",
   "execution_count": 3,
   "metadata": {},
   "outputs": [],
   "source": [
    "def get_E_div_V_from_mu(mu, T, g=2, m=electron_mass):\n",
    "    # T is in Kelvins!\n",
    "    T = T*k\n",
    "    return g*m**(3/2) / (np.sqrt(2) * pi**2 * hbar**3) * T**(5/2)*gamma(5/2)*fdk(k=1.5, phi=mu/T)"
   ]
  },
  {
   "cell_type": "code",
   "execution_count": 4,
   "metadata": {},
   "outputs": [],
   "source": [
    "def get_mu_E(N_div_V, T):\n",
    "    mu_div_kT_calc = get_mu_from_N_div_V(N_div_V, T)\n",
    "    # Хим.потенциал\n",
    "    mu_calc = mu_div_kT_calc * k * T\n",
    "    # Полная энергия\n",
    "    E_calc = get_E_div_V_from_mu(mu_calc, T)\n",
    "    return mu_calc, E_calc"
   ]
  },
  {
   "cell_type": "code",
   "execution_count": 18,
   "metadata": {},
   "outputs": [
    {
     "name": "stdout",
     "output_type": "stream",
     "text": [
      "T = 1e-05 K: \n",
      "mu = 12.630535060140446 эВ, E/V = 329038572535.665 Дж/м^3\n",
      "P = 219.35904835711 ГПа\n"
     ]
    }
   ],
   "source": [
    "# Попробуем эту алхимию применить!\n",
    "# Возьмем алюминий, rho = 2.7 г/см^3\n",
    "N_div_V = (2.7/27 * 10**6) * N_A * 3\n",
    "T = 10**-5\n",
    "mu, E = get_mu_E(N_div_V, T)\n",
    "print('T = %s K: \\nmu = %s эВ, E/V = %s Дж/м^3' % (T, mu/electron_volt, E))\n",
    "print('P = %s ГПа' % (E*2/3/10**9))"
   ]
  },
  {
   "cell_type": "code",
   "execution_count": 6,
   "metadata": {},
   "outputs": [
    {
     "name": "stdout",
     "output_type": "stream",
     "text": [
      "T = 1e-05 K: \n",
      "mu = 15.842212512949502 эВ, E/V = 579738346554.2914 Дж/м^3\n",
      "P = 386.49223103619426 ГПа\n"
     ]
    }
   ],
   "source": [
    "# Медь\n",
    "N_div_V = (8.92/63.5* 10**6) * N_A * 3\n",
    "mu, E = get_mu_E(N_div_V, T)\n",
    "print('T = %s K: \\nmu = %s эВ, E/V = %s Дж/м^3' % (T, mu/electron_volt, E))\n",
    "print('P = %s ГПа' % (E*2/3/10**9))"
   ]
  },
  {
   "cell_type": "markdown",
   "metadata": {},
   "source": [
    "### Сравним с асимптотическими формулами\n",
    "\n",
    "\\begin{equation}\n",
    "    \\frac{E}{V}=\\frac{3\\left(3 \\pi^{2}\\right)^{2 / 3}}{10} \\frac{\\hbar^{2}}{m}\\left(\\frac{N}{V}\\right)^{5 / 3}\n",
    "\\end{equation}\n",
    "\n",
    "\\begin{equation}\n",
    "    P=\\frac{\\left(3 \\pi^{2}\\right)^{2 / 3}}{5} \\frac{\\hbar^{2}}{m}\\left(\\frac{N}{V}\\right)^{5 / 3}\n",
    "\\end{equation}"
   ]
  },
  {
   "cell_type": "code",
   "execution_count": 7,
   "metadata": {},
   "outputs": [],
   "source": [
    "def get_E_div_V_asymp(n):\n",
    "    return 3*(3*pi)**(2/3)/10 * hbar**2/electron_mass * n**(5/3)\n",
    "def get_P_asymp(n):\n",
    "    return (3*pi**2)**(2/3)/5 * hbar**2/electron_mass * n**(5/3)"
   ]
  },
  {
   "cell_type": "code",
   "execution_count": 13,
   "metadata": {},
   "outputs": [
    {
     "name": "stdout",
     "output_type": "stream",
     "text": [
      "E/V = 166240746531.1324 Дж/м^3\n"
     ]
    }
   ],
   "source": [
    "E_div_V_asymp = get_E_div_V_asymp(N_div_V)\n",
    "print('E/V = %s Дж/м^3' % (E_div_V_asymp))"
   ]
  },
  {
   "cell_type": "code",
   "execution_count": null,
   "metadata": {},
   "outputs": [],
   "source": [
    "print('P = %s ГПа' % (get_P_asymp(N_div_V)/10**9))"
   ]
  }
 ],
 "metadata": {
  "kernelspec": {
   "display_name": "Python 3",
   "language": "python",
   "name": "python3"
  },
  "language_info": {
   "codemirror_mode": {
    "name": "ipython",
    "version": 3
   },
   "file_extension": ".py",
   "mimetype": "text/x-python",
   "name": "python",
   "nbconvert_exporter": "python",
   "pygments_lexer": "ipython3",
   "version": "3.7.3"
  },
  "pycharm": {
   "stem_cell": {
    "cell_type": "raw",
    "metadata": {
     "collapsed": false
    },
    "source": []
   }
  }
 },
 "nbformat": 4,
 "nbformat_minor": 1
}
