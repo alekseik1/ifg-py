{
 "cells": [
  {
   "cell_type": "markdown",
   "metadata": {},
   "source": [
    "# Из ландавшица и Румера\n",
    "Полное число частиц:\n",
    "\\begin{equation}\n",
    "    n = \\frac{N}{V} = \\frac{g m^{3 / 2}}{\\sqrt{2} \\pi^{2} \\hbar^{3}} \\int_{0}^{\\infty} \\frac{\\sqrt{\\varepsilon} d \\varepsilon}{e^{(\\varepsilon-\\mu) / T} + 1}\n",
    "    \\label{eq-N}\n",
    "\\end{equation}\n",
    "\n",
    "Энергия:\n",
    "\\begin{equation}\n",
    "    E=\\int_{0}^{\\infty} \\varepsilon d N_{\\varepsilon}=\\frac{g V m^{3 / 2}}{\\sqrt{2} \\pi^{2} \\hbar^{3}} \\int_{0}^{\\infty} \\frac{\\varepsilon^{3 / 2} d \\varepsilon}{e^{(\\varepsilon-\\mu) / T} + 1}\n",
    "    \\label{eq-E}\n",
    "\\end{equation}\n",
    "\n",
    "Для заданных $T, N/V$ надо найти $E$, а затем и $P$ по формуле:\n",
    "\\begin{equation}\n",
    "    PV = (2/3) E\n",
    "\\end{equation}\n",
    "\n",
    "\n",
    "\\begin{equation}\n",
    "    \\int_{0}^{\\infty} \\frac{\\varepsilon^{n/2} d \\varepsilon}{e^{\\varepsilon / T-\\mu / T} + 1} = \\left|\n",
    "    \\begin{array}\n",
    "        1\\varepsilon / T = t; & d\\varepsilon = T dt \\\\\n",
    "        \\varepsilon = t T;   & \\varepsilon^{n/2} = (t T)^{n/2} \\\\\n",
    "        \\mu / T = x & \\\\\n",
    "    \\end{array}\n",
    "    \\right| = \\int_{0}^{\\infty} \\frac{t^{n / 2} T^{n/2} T dt}{e^{t-x} + 1} = \n",
    "    T^{(n+2)/2} \\int_{0}^{\\infty} \\frac{t^{n / 2} dt}{e^{t-x} + 1} = \n",
    "\\end{equation}\n",
    "\\begin{equation}\n",
    "    = T^{(n+2)/2} \\, \\Gamma((n+2)/2) F_{n/2} (x) = T^{(n+2)/2} \\, \\Gamma\\left(\\frac{n+2}{2}\\right) F_{n/2} \\left(\\frac{\\mu}{T}\\right)\n",
    "\\end{equation}\n",
    "где $n = 1$ или $2$, а $T = kT'$, где $T'$ выражена в СИ (Кельвин). \n",
    "\n",
    "\n",
    "Для числа частиц имеем:\n",
    "\\begin{equation}\n",
    "    \\frac{E}{V} \\, \\frac{\\sqrt{2} \\pi^{2} \\hbar^{3}}{g m^{3 / 2}} - T^{3 / 2} \\Gamma(3/2) F_{1 / 2}\\left(\\frac{\\mu}{T}\\right) = 0\n",
    "\\end{equation}\n",
    "\n",
    "\\begin{equation}\n",
    "    F_{1 / 2}\\left(\\frac{\\mu}{T}\\right) = \\frac{E}{V} \\, \\frac{\\sqrt{2} \\pi^{2} \\hbar^{3}}{g m^{3 / 2}} \\frac{1}{ T^{3 / 2} \\Gamma(3/2) }\n",
    "\\end{equation}\n",
    "\n",
    "Отсюда получаем $\\mu$, а затем подставляем в выражение для $E$:\n",
    "\\begin{equation}\n",
    "    E = \\frac{g V m^{3 / 2}}{\\sqrt{2} \\pi^{2} \\hbar^{3}} \\int_{0}^{\\infty} \\frac{\\varepsilon^{3 / 2} d \\varepsilon}{e^{(\\varepsilon-\\mu) / T}+1} =\n",
    "    \\frac{g V m^{3 / 2}}{\\sqrt{2} \\pi^{2} \\hbar^{3}} T^{5 / 2} \\, \\Gamma(5/2) \\, F_{3 / 2}\\left(\\frac{\\mu}{T}\\right)\n",
    "\\end{equation}\n",
    "\n",
    "\\begin{equation}\n",
    "    P = (2/3) E/V = \\frac{\\sqrt{2}g m^{3 / 2}}{3 \\pi^{2} \\hbar^{3}} T^{5 / 2} \\, \\Gamma(5/2) \\, F_{3 / 2}\\left(\\frac{\\mu}{T}\\right)\n",
    "\\end{equation}"
   ]
  },
  {
   "cell_type": "markdown",
   "metadata": {},
   "source": [
    "# Асимптотические формулы (T $\\rightarrow$ 0)\n",
    "\n",
    "\\begin{equation}\n",
    "    \\frac{E}{V}=\\frac{3\\left(3 \\pi^{2}\\right)^{2 / 3}}{10} \\frac{\\hbar^{2}}{m}\\left(\\frac{N}{V}\\right)^{5 / 3}\n",
    "\\end{equation}\n",
    "\n",
    "\\begin{equation}\n",
    "    P=\\frac{\\left(3 \\pi^{2}\\right)^{2 / 3}}{5} \\frac{\\hbar^{2}}{m}\\left(\\frac{N}{V}\\right)^{5 / 3}\n",
    "\\end{equation}"
   ]
  },
  {
   "cell_type": "markdown",
   "metadata": {},
   "source": [
    "## Первые и вторые производные $F$ для идеального Ферми-газа"
   ]
  },
  {
   "cell_type": "code",
   "execution_count": 1,
   "metadata": {},
   "outputs": [],
   "source": [
    "from sympy import init_session"
   ]
  },
  {
   "cell_type": "code",
   "execution_count": 2,
   "metadata": {},
   "outputs": [
    {
     "name": "stdout",
     "output_type": "stream",
     "text": [
      "IPython console for SymPy 1.3 (Python 3.7.1-64-bit) (ground types: python)\n",
      "\n",
      "These commands were executed:\n",
      ">>> from __future__ import division\n",
      ">>> from sympy import *\n",
      ">>> x, y, z, t = symbols('x y z t')\n",
      ">>> k, m, n = symbols('k m n', integer=True)\n",
      ">>> f, g, h = symbols('f g h', cls=Function)\n",
      ">>> init_printing()\n",
      "\n",
      "Documentation can be found at http://docs.sympy.org/1.3/\n",
      "\n"
     ]
    }
   ],
   "source": [
    "init_session()"
   ]
  },
  {
   "cell_type": "code",
   "execution_count": 3,
   "metadata": {},
   "outputs": [],
   "source": [
    "T, V = symbols('T V')\n",
    "g = 2\n",
    "N = Symbol('N')\n",
    "# y = mu/T\n",
    "y = Function('y')(T, V)\n",
    "y._latex = lambda printer: r'y'\n",
    "    \n",
    "Int = lambda k, y: Function('I_' + str(k))(y)\n",
    "\n",
    "def sub_fermi_derivs(expr, powers, variable):\n",
    "    result = expr\n",
    "    for power in powers:\n",
    "        result = result.subs(diff(Int(power, variable), variable), power*Int(power-1, variable))\n",
    "    return result\n",
    "\n",
    "def sub_fermi_asymp(expr, powers, variable):\n",
    "    result = expr\n",
    "    for power in powers:\n",
    "        # Костыля с делением на 2 больше нет. См. формулу 46.1а) из Ландавшица 5 том (стр.165)\n",
    "        # Оказалось, что в выражение хим.потенциала входит g=2 в знаменатель\n",
    "        result = result.subs(Int(power, variable), gamma(power+1)*(N/(2*V)*(2*pi/T)**Rational(3, 2)))\n",
    "    return result"
   ]
  },
  {
   "cell_type": "code",
   "execution_count": 4,
   "metadata": {},
   "outputs": [
    {
     "data": {
      "image/png": "[encoded data removed]",
      "text/latex": [
       "$$\\frac{\\sqrt{2} T^{\\frac{5}{2}} V \\left(\\operatorname{I_{1/2}}{\\left (y \\right )} y - \\frac{2 \\operatorname{I_{3/2}}{\\left (y \\right )}}{3}\\right)}{\\pi^{2} N}$$"
      ],
      "text/plain": [
       "    5/2   ⎛                         2⋅I_3/2(y(T, V))⎞\n",
       "√2⋅T   ⋅V⋅⎜I_1/2(y(T, V))⋅y(T, V) - ────────────────⎟\n",
       "          ⎝                                3        ⎠\n",
       "─────────────────────────────────────────────────────\n",
       "                          2                          \n",
       "                         π ⋅N                        "
      ]
     },
     "execution_count": 4,
     "metadata": {},
     "output_type": "execute_result"
    }
   ],
   "source": [
    "# TODO: вот тут лучше проверить. Я не знаю, оставили ли подгоны физ.смысл в этом выражении\n",
    "F = sqrt(2)/pi**2*T**(Rational(5, 2))*V*(y*Int(Rational(1, 2), y) - Rational(2, 3)*Int(Rational(3, 2), y))\n",
    "# По сути, разделив F для всей системы на N, мы получим F на одну частицу\n",
    "F /= N\n",
    "F"
   ]
  },
  {
   "cell_type": "code",
   "execution_count": 5,
   "metadata": {},
   "outputs": [
    {
     "data": {
      "image/png": "[encoded data removed]",
      "text/latex": [
       "$$\\frac{\\sqrt{2} T^{\\frac{5}{2}} V \\operatorname{I_{-1/2}}{\\left (y \\right )} y \\frac{\\partial}{\\partial V} y}{2 \\pi^{2} N} + \\frac{\\sqrt{2} T^{\\frac{5}{2}} \\left(\\operatorname{I_{1/2}}{\\left (y \\right )} y - \\frac{2 \\operatorname{I_{3/2}}{\\left (y \\right )}}{3}\\right)}{\\pi^{2} N}$$"
      ],
      "text/plain": [
       "    5/2                           ∂                 5/2 ⎛                     \n",
       "√2⋅T   ⋅V⋅I_-1/2(y(T, V))⋅y(T, V)⋅──(y(T, V))   √2⋅T   ⋅⎜I_1/2(y(T, V))⋅y(T, V\n",
       "                                  ∂V                    ⎝                     \n",
       "───────────────────────────────────────────── + ──────────────────────────────\n",
       "                       2                                                 2    \n",
       "                    2⋅π ⋅N                                              π ⋅N  \n",
       "\n",
       "    2⋅I_3/2(y(T, V))⎞\n",
       ") - ────────────────⎟\n",
       "           3        ⎠\n",
       "─────────────────────\n",
       "                     \n",
       "                     "
      ]
     },
     "execution_count": 5,
     "metadata": {},
     "output_type": "execute_result"
    }
   ],
   "source": [
    "# F_V\n",
    "# Проверил на черновике\n",
    "F_V = sub_fermi_derivs(diff(F, V).doit(), [Rational(i, 2) for i in range(-3, 4, 2)], y)\n",
    "F_V"
   ]
  },
  {
   "cell_type": "code",
   "execution_count": 6,
   "metadata": {},
   "outputs": [
    {
     "data": {
      "image/png": "[encoded data removed]",
      "text/latex": [
       "$$\\frac{\\sqrt{2} T^{\\frac{5}{2}} V \\operatorname{I_{-1/2}}{\\left (y \\right )} y \\frac{\\partial}{\\partial T} y}{2 \\pi^{2} N} + \\frac{5 \\sqrt{2} T^{\\frac{3}{2}} V \\left(\\operatorname{I_{1/2}}{\\left (y \\right )} y - \\frac{2 \\operatorname{I_{3/2}}{\\left (y \\right )}}{3}\\right)}{2 \\pi^{2} N}$$"
      ],
      "text/plain": [
       "    5/2                           ∂                   3/2   ⎛                 \n",
       "√2⋅T   ⋅V⋅I_-1/2(y(T, V))⋅y(T, V)⋅──(y(T, V))   5⋅√2⋅T   ⋅V⋅⎜I_1/2(y(T, V))⋅y(\n",
       "                                  ∂T                        ⎝                 \n",
       "───────────────────────────────────────────── + ──────────────────────────────\n",
       "                       2                                                    2 \n",
       "                    2⋅π ⋅N                                               2⋅π ⋅\n",
       "\n",
       "        2⋅I_3/2(y(T, V))⎞\n",
       "T, V) - ────────────────⎟\n",
       "               3        ⎠\n",
       "─────────────────────────\n",
       "                         \n",
       "N                        "
      ]
     },
     "execution_count": 6,
     "metadata": {},
     "output_type": "execute_result"
    }
   ],
   "source": [
    "# F_T\n",
    "# Верно из пред. пункта\n",
    "F_T = sub_fermi_derivs(diff(F, T).doit(), [Rational(i, 2) for i in range(-3, 4, 2)], y)\n",
    "F_T"
   ]
  },
  {
   "cell_type": "code",
   "execution_count": 7,
   "metadata": {},
   "outputs": [
    {
     "data": {
      "image/png": "[encoded data removed]",
      "text/latex": [
       "$$\\frac{\\sqrt{2} T^{\\frac{5}{2}} \\left(2 V \\operatorname{I_{-1/2}}{\\left (y \\right )} y \\frac{\\partial^{2}}{\\partial V^{2}} y + 2 V \\operatorname{I_{-1/2}}{\\left (y \\right )} \\left(\\frac{\\partial}{\\partial V} y\\right)^{2} - V \\operatorname{I_{-3/2}}{\\left (y \\right )} y \\left(\\frac{\\partial}{\\partial V} y\\right)^{2} + 4 \\operatorname{I_{-1/2}}{\\left (y \\right )} y \\frac{\\partial}{\\partial V} y\\right)}{4 \\pi^{2} N}$$"
      ],
      "text/plain": [
       "        ⎛                              2                                      \n",
       "    5/2 ⎜                             ∂                                 ⎛∂    \n",
       "√2⋅T   ⋅⎜2⋅V⋅I_-1/2(y(T, V))⋅y(T, V)⋅───(y(T, V)) + 2⋅V⋅I_-1/2(y(T, V))⋅⎜──(y(\n",
       "        ⎜                              2                                ⎝∂V   \n",
       "        ⎝                            ∂V                                       \n",
       "──────────────────────────────────────────────────────────────────────────────\n",
       "                                                                              \n",
       "                                                                              \n",
       "\n",
       "       2                                          2                           \n",
       "      ⎞                              ⎛∂          ⎞                            \n",
       "T, V))⎟  - V⋅I_-3/2(y(T, V))⋅y(T, V)⋅⎜──(y(T, V))⎟  + 4⋅I_-1/2(y(T, V))⋅y(T, V\n",
       "      ⎠                              ⎝∂V         ⎠                            \n",
       "                                                                              \n",
       "──────────────────────────────────────────────────────────────────────────────\n",
       "       2                                                                      \n",
       "    4⋅π ⋅N                                                                    \n",
       "\n",
       "             ⎞\n",
       "  ∂          ⎟\n",
       ")⋅──(y(T, V))⎟\n",
       "  ∂V         ⎟\n",
       "             ⎠\n",
       "──────────────\n",
       "              \n",
       "              "
      ]
     },
     "execution_count": 7,
     "metadata": {},
     "output_type": "execute_result"
    }
   ],
   "source": [
    "# F_VV\n",
    "# Верно, проверил руками\n",
    "F_VV = sub_fermi_derivs(diff(F_V, V).doit(), [Rational(i, 2) for i in range(-5, 6, 2)], y).simplify().factor()\n",
    "F_VV"
   ]
  },
  {
   "cell_type": "code",
   "execution_count": 8,
   "metadata": {},
   "outputs": [
    {
     "data": {
      "image/png": "[encoded data removed]",
      "text/latex": [
       "$$\\frac{\\sqrt{2} T^{\\frac{3}{2}} \\left(6 T V \\operatorname{I_{-1/2}}{\\left (y \\right )} y \\frac{\\partial^{2}}{\\partial V\\partial T} y + 6 T V \\operatorname{I_{-1/2}}{\\left (y \\right )} \\frac{\\partial}{\\partial T} y \\frac{\\partial}{\\partial V} y - 3 T V \\operatorname{I_{-3/2}}{\\left (y \\right )} y \\frac{\\partial}{\\partial T} y \\frac{\\partial}{\\partial V} y + 6 T \\operatorname{I_{-1/2}}{\\left (y \\right )} y \\frac{\\partial}{\\partial T} y + 15 V \\operatorname{I_{-1/2}}{\\left (y \\right )} y \\frac{\\partial}{\\partial V} y + 30 \\operatorname{I_{1/2}}{\\left (y \\right )} y - 20 \\operatorname{I_{3/2}}{\\left (y \\right )}\\right)}{12 \\pi^{2} N}$$"
      ],
      "text/plain": [
       "        ⎛                                 2                                   \n",
       "    3/2 ⎜                                ∂                                    \n",
       "√2⋅T   ⋅⎜6⋅T⋅V⋅I_-1/2(y(T, V))⋅y(T, V)⋅─────(y(T, V)) + 6⋅T⋅V⋅I_-1/2(y(T, V))⋅\n",
       "        ⎝                              ∂V ∂T                                  \n",
       "──────────────────────────────────────────────────────────────────────────────\n",
       "                                                                              \n",
       "                                                                              \n",
       "\n",
       "                                                                              \n",
       "∂           ∂                                           ∂           ∂         \n",
       "──(y(T, V))⋅──(y(T, V)) - 3⋅T⋅V⋅I_-3/2(y(T, V))⋅y(T, V)⋅──(y(T, V))⋅──(y(T, V)\n",
       "∂T          ∂V                                          ∂T          ∂V        \n",
       "──────────────────────────────────────────────────────────────────────────────\n",
       "                                                                    2         \n",
       "                                                                12⋅π ⋅N       \n",
       "\n",
       "                                                                              \n",
       "                                ∂                                          ∂  \n",
       ") + 6⋅T⋅I_-1/2(y(T, V))⋅y(T, V)⋅──(y(T, V)) + 15⋅V⋅I_-1/2(y(T, V))⋅y(T, V)⋅──(\n",
       "                                ∂T                                         ∂V \n",
       "──────────────────────────────────────────────────────────────────────────────\n",
       "                                                                              \n",
       "                                                                              \n",
       "\n",
       "                                                        ⎞\n",
       "                                                        ⎟\n",
       "y(T, V)) + 30⋅I_1/2(y(T, V))⋅y(T, V) - 20⋅I_3/2(y(T, V))⎟\n",
       "                                                        ⎠\n",
       "─────────────────────────────────────────────────────────\n",
       "                                                         \n",
       "                                                         "
      ]
     },
     "execution_count": 8,
     "metadata": {},
     "output_type": "execute_result"
    }
   ],
   "source": [
    "# F_VT\n",
    "# Верно, проверил руками\n",
    "F_VT = sub_fermi_derivs(diff(F_V, T).doit(), [Rational(i, 2) for i in range(-3, 4, 2)], y).simplify().factor()\n",
    "F_VT"
   ]
  },
  {
   "cell_type": "code",
   "execution_count": 9,
   "metadata": {},
   "outputs": [
    {
     "data": {
      "image/png": "[encoded data removed]",
      "text/latex": [
       "$$\\frac{\\sqrt{2} T^{\\frac{3}{2}} \\left(6 T V \\operatorname{I_{-1/2}}{\\left (y \\right )} y \\frac{\\partial^{2}}{\\partial V\\partial T} y + 6 T V \\operatorname{I_{-1/2}}{\\left (y \\right )} \\frac{\\partial}{\\partial T} y \\frac{\\partial}{\\partial V} y - 3 T V \\operatorname{I_{-3/2}}{\\left (y \\right )} y \\frac{\\partial}{\\partial T} y \\frac{\\partial}{\\partial V} y + 6 T \\operatorname{I_{-1/2}}{\\left (y \\right )} y \\frac{\\partial}{\\partial T} y + 15 V \\operatorname{I_{-1/2}}{\\left (y \\right )} y \\frac{\\partial}{\\partial V} y + 30 \\operatorname{I_{1/2}}{\\left (y \\right )} y - 20 \\operatorname{I_{3/2}}{\\left (y \\right )}\\right)}{12 \\pi^{2} N}$$"
      ],
      "text/plain": [
       "        ⎛                                 2                                   \n",
       "    3/2 ⎜                                ∂                                    \n",
       "√2⋅T   ⋅⎜6⋅T⋅V⋅I_-1/2(y(T, V))⋅y(T, V)⋅─────(y(T, V)) + 6⋅T⋅V⋅I_-1/2(y(T, V))⋅\n",
       "        ⎝                              ∂V ∂T                                  \n",
       "──────────────────────────────────────────────────────────────────────────────\n",
       "                                                                              \n",
       "                                                                              \n",
       "\n",
       "                                                                              \n",
       "∂           ∂                                           ∂           ∂         \n",
       "──(y(T, V))⋅──(y(T, V)) - 3⋅T⋅V⋅I_-3/2(y(T, V))⋅y(T, V)⋅──(y(T, V))⋅──(y(T, V)\n",
       "∂T          ∂V                                          ∂T          ∂V        \n",
       "──────────────────────────────────────────────────────────────────────────────\n",
       "                                                                    2         \n",
       "                                                                12⋅π ⋅N       \n",
       "\n",
       "                                                                              \n",
       "                                ∂                                          ∂  \n",
       ") + 6⋅T⋅I_-1/2(y(T, V))⋅y(T, V)⋅──(y(T, V)) + 15⋅V⋅I_-1/2(y(T, V))⋅y(T, V)⋅──(\n",
       "                                ∂T                                         ∂V \n",
       "──────────────────────────────────────────────────────────────────────────────\n",
       "                                                                              \n",
       "                                                                              \n",
       "\n",
       "                                                        ⎞\n",
       "                                                        ⎟\n",
       "y(T, V)) + 30⋅I_1/2(y(T, V))⋅y(T, V) - 20⋅I_3/2(y(T, V))⎟\n",
       "                                                        ⎠\n",
       "─────────────────────────────────────────────────────────\n",
       "                                                         \n",
       "                                                         "
      ]
     },
     "execution_count": 9,
     "metadata": {},
     "output_type": "execute_result"
    }
   ],
   "source": [
    "# F_VT\n",
    "F_TV = sub_fermi_derivs(diff(F_T, V).doit(), [Rational(i, 2) for i in range(-3, 4, 2)], y).simplify().factor()\n",
    "F_TV"
   ]
  },
  {
   "cell_type": "code",
   "execution_count": 10,
   "metadata": {},
   "outputs": [
    {
     "data": {
      "image/png": "[encoded data removed]",
      "text/latex": [
       "$$\\frac{\\sqrt{2} \\sqrt{T} V \\left(2 T^{2} \\operatorname{I_{-1/2}}{\\left (y \\right )} y \\frac{\\partial^{2}}{\\partial T^{2}} y + 2 T^{2} \\operatorname{I_{-1/2}}{\\left (y \\right )} \\left(\\frac{\\partial}{\\partial T} y\\right)^{2} - T^{2} \\operatorname{I_{-3/2}}{\\left (y \\right )} y \\left(\\frac{\\partial}{\\partial T} y\\right)^{2} + 10 T \\operatorname{I_{-1/2}}{\\left (y \\right )} y \\frac{\\partial}{\\partial T} y + 15 \\operatorname{I_{1/2}}{\\left (y \\right )} y - 10 \\operatorname{I_{3/2}}{\\left (y \\right )}\\right)}{4 \\pi^{2} N}$$"
      ],
      "text/plain": [
       "        ⎛                               2                                     \n",
       "        ⎜   2                          ∂                2                 ⎛∂  \n",
       "√2⋅√T⋅V⋅⎜2⋅T ⋅I_-1/2(y(T, V))⋅y(T, V)⋅───(y(T, V)) + 2⋅T ⋅I_-1/2(y(T, V))⋅⎜──(\n",
       "        ⎜                               2                                 ⎝∂T \n",
       "        ⎝                             ∂T                                      \n",
       "──────────────────────────────────────────────────────────────────────────────\n",
       "                                                                              \n",
       "                                                                              \n",
       "\n",
       "         2                                           2                        \n",
       "        ⎞     2                         ⎛∂          ⎞                         \n",
       "y(T, V))⎟  - T ⋅I_-3/2(y(T, V))⋅y(T, V)⋅⎜──(y(T, V))⎟  + 10⋅T⋅I_-1/2(y(T, V))⋅\n",
       "        ⎠                               ⎝∂T         ⎠                         \n",
       "                                                                              \n",
       "──────────────────────────────────────────────────────────────────────────────\n",
       "                                  2                                           \n",
       "                               4⋅π ⋅N                                         \n",
       "\n",
       "                                                                   ⎞\n",
       "        ∂                                                          ⎟\n",
       "y(T, V)⋅──(y(T, V)) + 15⋅I_1/2(y(T, V))⋅y(T, V) - 10⋅I_3/2(y(T, V))⎟\n",
       "        ∂T                                                         ⎟\n",
       "                                                                   ⎠\n",
       "────────────────────────────────────────────────────────────────────\n",
       "                                                                    \n",
       "                                                                    "
      ]
     },
     "execution_count": 10,
     "metadata": {},
     "output_type": "execute_result"
    }
   ],
   "source": [
    "# F_TT\n",
    "# Верно, по аналогии с двумя пунктами выше\n",
    "F_TT = sub_fermi_derivs(diff(F_T, T).doit(), [Rational(i, 2) for i in range(-5, 6, 2)], y).simplify().factor()\n",
    "F_TT"
   ]
  },
  {
   "cell_type": "markdown",
   "metadata": {},
   "source": [
    "## Производные $\\mu$\n",
    "\n",
    "Чтобы найти производные, надо взять выражение\n",
    "\\begin{equation}\n",
    "    I _ { 1 / 2 } \\left( \\frac { \\mu } { T } \\right) = n \\, \\frac { \\sqrt { 2 } \\pi ^ { 2 } } { g } \\frac { 1 } { T ^ { 3 / 2 } \\Gamma ( 3 / 2 ) }\n",
    "\\end{equation}"
   ]
  },
  {
   "cell_type": "code",
   "execution_count": 11,
   "metadata": {},
   "outputs": [
    {
     "data": {
      "image/png": "[encoded data removed]",
      "text/latex": [
       "$$N - \\frac{\\sqrt{2} T^{\\frac{3}{2}} V \\operatorname{I_{1/2}}{\\left (y \\right )}}{2 \\pi^{\\frac{3}{2}}}$$"
      ],
      "text/plain": [
       "        3/2                 \n",
       "    √2⋅T   ⋅V⋅I_1/2(y(T, V))\n",
       "N - ────────────────────────\n",
       "                3/2         \n",
       "             2⋅π            "
      ]
     },
     "execution_count": 11,
     "metadata": {},
     "output_type": "execute_result"
    }
   ],
   "source": [
    "gamma_32 = Function('Gamma')(Rational(3, 2))\n",
    "# Эта формула взята из (4) Калиткина\n",
    "eq = N - g*T**(Rational(3, 2))*V*gamma(S(3)/2)/(sqrt(2)*pi**2)*Int(Rational(1, 2), y)\n",
    "eq"
   ]
  },
  {
   "cell_type": "code",
   "execution_count": 12,
   "metadata": {},
   "outputs": [
    {
     "data": {
      "image/png": "[encoded data removed]",
      "text/latex": [
       "$$- \\frac{3 \\operatorname{I_{1/2}}{\\left (y \\right )}}{T \\operatorname{I_{-1/2}}{\\left (y \\right )}}$$"
      ],
      "text/plain": [
       "-3⋅I_1/2(y(T, V)) \n",
       "──────────────────\n",
       "T⋅I_-1/2(y(T, V)) "
      ]
     },
     "execution_count": 12,
     "metadata": {},
     "output_type": "execute_result"
    }
   ],
   "source": [
    "# Берем первую производную по T и разрешаем относительно dy/dT\n",
    "# Верно, проверил на бумаге\n",
    "y_T_symbolic = solve(\n",
    "    sub_fermi_derivs(\n",
    "        diff(eq, T).doit(), \n",
    "        [Rational(1, 2)], \n",
    "        y\n",
    "    ),\n",
    "    diff(y, T)\n",
    ")[0]\n",
    "y_T_symbolic"
   ]
  },
  {
   "cell_type": "code",
   "execution_count": 13,
   "metadata": {},
   "outputs": [
    {
     "data": {
      "image/png": "[encoded data removed]",
      "text/latex": [
       "$$- \\frac{2 \\operatorname{I_{1/2}}{\\left (y \\right )}}{V \\operatorname{I_{-1/2}}{\\left (y \\right )}}$$"
      ],
      "text/plain": [
       "-2⋅I_1/2(y(T, V)) \n",
       "──────────────────\n",
       "V⋅I_-1/2(y(T, V)) "
      ]
     },
     "execution_count": 13,
     "metadata": {},
     "output_type": "execute_result"
    }
   ],
   "source": [
    "# Берем первую производную по V и разрешаем относительно dy/dV\n",
    "# Верно, проверил на бумаге\n",
    "y_V_symbolic = solve(\n",
    "    sub_fermi_derivs(\n",
    "        diff(eq, V).doit(), \n",
    "        [Rational(1, 2)], \n",
    "        y\n",
    "    ),\n",
    "    diff(y, V)\n",
    ")[0]\n",
    "y_V_symbolic"
   ]
  },
  {
   "cell_type": "code",
   "execution_count": 14,
   "metadata": {},
   "outputs": [
    {
     "data": {
      "image/png": "[encoded data removed]",
      "text/latex": [
       "$$\\frac{4 \\operatorname{I_{1/2}}{\\left (y \\right )}}{V^{2} \\operatorname{I_{-1/2}}{\\left (y \\right )}} + \\frac{2 \\operatorname{I_{-3/2}}{\\left (y \\right )} \\operatorname{I_{1/2}}^{2}{\\left (y \\right )}}{V^{2} \\operatorname{I_{-1/2}}^{3}{\\left (y \\right )}}$$"
      ],
      "text/plain": [
       "                                            2         \n",
       " 4⋅I_1/2(y(T, V))    2⋅I_-3/2(y(T, V))⋅I_1/2 (y(T, V))\n",
       "────────────────── + ─────────────────────────────────\n",
       " 2                           2       3                \n",
       "V ⋅I_-1/2(y(T, V))          V ⋅I_-1/2 (y(T, V))       "
      ]
     },
     "execution_count": 14,
     "metadata": {},
     "output_type": "execute_result"
    }
   ],
   "source": [
    "# Верно, проверил на бумаге\n",
    "y_VV_symbolic = sub_fermi_derivs(\n",
    "    diff(y_V_symbolic, V).doit(),\n",
    "    [Rational(i, 2) for i in range(-5, 6, 2)],\n",
    "    y\n",
    ").subs(\n",
    "    diff(y, V),\n",
    "    y_V_symbolic\n",
    ")\n",
    "y_VV_symbolic"
   ]
  },
  {
   "cell_type": "code",
   "execution_count": 15,
   "metadata": {},
   "outputs": [
    {
     "data": {
      "image/png": "[encoded data removed]",
      "text/latex": [
       "$$\\frac{15 \\operatorname{I_{1/2}}{\\left (y \\right )}}{2 T^{2} \\operatorname{I_{-1/2}}{\\left (y \\right )}} + \\frac{9 \\operatorname{I_{-3/2}}{\\left (y \\right )} \\operatorname{I_{1/2}}^{2}{\\left (y \\right )}}{2 T^{2} \\operatorname{I_{-1/2}}^{3}{\\left (y \\right )}}$$"
      ],
      "text/plain": [
       "                                              2         \n",
       " 15⋅I_1/2(y(T, V))     9⋅I_-3/2(y(T, V))⋅I_1/2 (y(T, V))\n",
       "──────────────────── + ─────────────────────────────────\n",
       "   2                            2       3               \n",
       "2⋅T ⋅I_-1/2(y(T, V))         2⋅T ⋅I_-1/2 (y(T, V))      "
      ]
     },
     "execution_count": 15,
     "metadata": {},
     "output_type": "execute_result"
    }
   ],
   "source": [
    "# Верно по аналогии с пред. пунктом\n",
    "y_TT_symbolic = sub_fermi_derivs(\n",
    "    diff(y_T_symbolic, T).doit(),\n",
    "    [Rational(i, 2) for i in range(-5, 6, 2)],\n",
    "    y\n",
    ").subs(\n",
    "    diff(y, T),\n",
    "    y_T_symbolic\n",
    ")\n",
    "y_TT_symbolic"
   ]
  },
  {
   "cell_type": "code",
   "execution_count": 16,
   "metadata": {},
   "outputs": [
    {
     "data": {
      "image/png": "[encoded data removed]",
      "text/latex": [
       "$$\\frac{3 \\operatorname{I_{1/2}}{\\left (y \\right )}}{T V \\operatorname{I_{-1/2}}{\\left (y \\right )}} + \\frac{3 \\operatorname{I_{-3/2}}{\\left (y \\right )} \\operatorname{I_{1/2}}^{2}{\\left (y \\right )}}{T V \\operatorname{I_{-1/2}}^{3}{\\left (y \\right )}}$$"
      ],
      "text/plain": [
       "                                             2         \n",
       "  3⋅I_1/2(y(T, V))    3⋅I_-3/2(y(T, V))⋅I_1/2 (y(T, V))\n",
       "─────────────────── + ─────────────────────────────────\n",
       "T⋅V⋅I_-1/2(y(T, V))                    3               \n",
       "                             T⋅V⋅I_-1/2 (y(T, V))      "
      ]
     },
     "execution_count": 16,
     "metadata": {},
     "output_type": "execute_result"
    }
   ],
   "source": [
    "y_VT_symbolic = sub_fermi_derivs(\n",
    "    diff(y_V_symbolic, T).doit(),\n",
    "    [Rational(i, 2) for i in range(-5, 6, 2)],\n",
    "    y\n",
    ").subs(\n",
    "    diff(y, T),\n",
    "    y_T_symbolic\n",
    ")\n",
    "y_VT_symbolic"
   ]
  },
  {
   "cell_type": "code",
   "execution_count": 17,
   "metadata": {},
   "outputs": [
    {
     "data": {
      "image/png": "[encoded data removed]",
      "text/latex": [
       "$$\\frac{3 \\operatorname{I_{1/2}}{\\left (y \\right )}}{T V \\operatorname{I_{-1/2}}{\\left (y \\right )}} + \\frac{3 \\operatorname{I_{-3/2}}{\\left (y \\right )} \\operatorname{I_{1/2}}^{2}{\\left (y \\right )}}{T V \\operatorname{I_{-1/2}}^{3}{\\left (y \\right )}}$$"
      ],
      "text/plain": [
       "                                             2         \n",
       "  3⋅I_1/2(y(T, V))    3⋅I_-3/2(y(T, V))⋅I_1/2 (y(T, V))\n",
       "─────────────────── + ─────────────────────────────────\n",
       "T⋅V⋅I_-1/2(y(T, V))                    3               \n",
       "                             T⋅V⋅I_-1/2 (y(T, V))      "
      ]
     },
     "execution_count": 17,
     "metadata": {},
     "output_type": "execute_result"
    }
   ],
   "source": [
    "y_TV_symbolic = sub_fermi_derivs(\n",
    "    diff(y_T_symbolic, V).doit(),\n",
    "    [Rational(i, 2) for i in range(-5, 6, 2)],\n",
    "    y\n",
    ").subs(\n",
    "    diff(y, V),\n",
    "    y_V_symbolic\n",
    ")\n",
    "y_TV_symbolic"
   ]
  },
  {
   "cell_type": "code",
   "execution_count": 18,
   "metadata": {
    "scrolled": true
   },
   "outputs": [
    {
     "data": {
      "image/png": "[encoded data removed]",
      "text/latex": [
       "$$0$$"
      ],
      "text/plain": [
       "0"
      ]
     },
     "execution_count": 18,
     "metadata": {},
     "output_type": "execute_result"
    }
   ],
   "source": [
    "y_TV_symbolic - y_VT_symbolic"
   ]
  },
  {
   "cell_type": "markdown",
   "metadata": {},
   "source": [
    "## Подстановка производных $y$ в производные $F$\n",
    "Получили все производные для $y = y(T, V)$. Самое время их подставить в выражаения для производных $F$"
   ]
  },
  {
   "cell_type": "code",
   "execution_count": 19,
   "metadata": {},
   "outputs": [
    {
     "data": {
      "image/png": "[encoded data removed]",
      "text/latex": [
       "$$- \\frac{2 \\sqrt{2} T^{\\frac{5}{2}} \\operatorname{I_{3/2}}{\\left (y \\right )}}{3 \\pi^{2} N}$$"
      ],
      "text/plain": [
       "       5/2                \n",
       "-2⋅√2⋅T   ⋅I_3/2(y(T, V)) \n",
       "──────────────────────────\n",
       "             2            \n",
       "          3⋅π ⋅N          "
      ]
     },
     "execution_count": 19,
     "metadata": {},
     "output_type": "execute_result"
    }
   ],
   "source": [
    "F_V_subed = F_V.subs(\n",
    "    diff(y, V),\n",
    "    y_V_symbolic\n",
    ").simplify()\n",
    "F_V_subed"
   ]
  },
  {
   "cell_type": "code",
   "execution_count": 20,
   "metadata": {},
   "outputs": [
    {
     "data": {
      "image/png": "[encoded data removed]",
      "text/latex": [
       "$$\\frac{\\sqrt{2} T^{\\frac{3}{2}} V \\left(3 \\operatorname{I_{1/2}}{\\left (y \\right )} y - 5 \\operatorname{I_{3/2}}{\\left (y \\right )}\\right)}{3 \\pi^{2} N}$$"
      ],
      "text/plain": [
       "    3/2                                                \n",
       "√2⋅T   ⋅V⋅(3⋅I_1/2(y(T, V))⋅y(T, V) - 5⋅I_3/2(y(T, V)))\n",
       "───────────────────────────────────────────────────────\n",
       "                            2                          \n",
       "                         3⋅π ⋅N                        "
      ]
     },
     "execution_count": 20,
     "metadata": {},
     "output_type": "execute_result"
    }
   ],
   "source": [
    "F_T_subed = F_T.subs(\n",
    "    diff(y, T),\n",
    "    y_T_symbolic\n",
    ").simplify()\n",
    "F_T_subed"
   ]
  },
  {
   "cell_type": "code",
   "execution_count": 21,
   "metadata": {},
   "outputs": [
    {
     "data": {
      "image/png": "[encoded data removed]",
      "text/latex": [
       "$$\\frac{2 \\sqrt{2} T^{\\frac{5}{2}} \\operatorname{I_{1/2}}^{2}{\\left (y \\right )}}{\\pi^{2} N V \\operatorname{I_{-1/2}}{\\left (y \\right )}}$$"
      ],
      "text/plain": [
       "      5/2      2         \n",
       "2⋅√2⋅T   ⋅I_1/2 (y(T, V))\n",
       "─────────────────────────\n",
       "   2                     \n",
       "  π ⋅N⋅V⋅I_-1/2(y(T, V)) "
      ]
     },
     "execution_count": 21,
     "metadata": {},
     "output_type": "execute_result"
    }
   ],
   "source": [
    "F_VV_subed = F_VV.subs(\n",
    "    diff(y, V, V),\n",
    "    y_VV_symbolic\n",
    ").subs(\n",
    "    diff(y, V),\n",
    "    y_V_symbolic\n",
    ").simplify()\n",
    "F_VV_subed"
   ]
  },
  {
   "cell_type": "code",
   "execution_count": 22,
   "metadata": {},
   "outputs": [
    {
     "data": {
      "image/png": "[encoded data removed]",
      "text/latex": [
       "$$- \\frac{\\sqrt{2} \\sqrt{T} V \\left(5 \\operatorname{I_{-1/2}}{\\left (y \\right )} \\operatorname{I_{3/2}}{\\left (y \\right )} - 9 \\operatorname{I_{1/2}}^{2}{\\left (y \\right )}\\right)}{2 \\pi^{2} N \\operatorname{I_{-1/2}}{\\left (y \\right )}}$$"
      ],
      "text/plain": [
       "         ⎛                                          2         ⎞ \n",
       "-√2⋅√T⋅V⋅⎝5⋅I_-1/2(y(T, V))⋅I_3/2(y(T, V)) - 9⋅I_1/2 (y(T, V))⎠ \n",
       "────────────────────────────────────────────────────────────────\n",
       "                        2                                       \n",
       "                     2⋅π ⋅N⋅I_-1/2(y(T, V))                     "
      ]
     },
     "execution_count": 22,
     "metadata": {},
     "output_type": "execute_result"
    }
   ],
   "source": [
    "F_TT_subed = F_TT.subs(\n",
    "    diff(y, T, T),\n",
    "    y_TT_symbolic\n",
    ").subs(\n",
    "    diff(y, T),\n",
    "    y_T_symbolic\n",
    ").simplify()\n",
    "F_TT_subed"
   ]
  },
  {
   "cell_type": "code",
   "execution_count": 23,
   "metadata": {},
   "outputs": [
    {
     "data": {
      "image/png": "[encoded data removed]",
      "text/latex": [
       "$$\\frac{\\sqrt{2} T^{\\frac{3}{2}} \\left(- \\frac{5 \\operatorname{I_{-1/2}}{\\left (y \\right )} \\operatorname{I_{3/2}}{\\left (y \\right )}}{3} + 3 \\operatorname{I_{1/2}}^{2}{\\left (y \\right )}\\right)}{\\pi^{2} N \\operatorname{I_{-1/2}}{\\left (y \\right )}}$$"
      ],
      "text/plain": [
       "    3/2 ⎛  5⋅I_-1/2(y(T, V))⋅I_3/2(y(T, V))          2         ⎞\n",
       "√2⋅T   ⋅⎜- ──────────────────────────────── + 3⋅I_1/2 (y(T, V))⎟\n",
       "        ⎝                 3                                    ⎠\n",
       "────────────────────────────────────────────────────────────────\n",
       "                       2                                        \n",
       "                      π ⋅N⋅I_-1/2(y(T, V))                      "
      ]
     },
     "execution_count": 23,
     "metadata": {},
     "output_type": "execute_result"
    }
   ],
   "source": [
    "F_VT_subed = F_VT.subs(\n",
    "    diff(y, T, V),\n",
    "    y_TV_symbolic\n",
    ").subs(\n",
    "    diff(y, T),\n",
    "    y_T_symbolic\n",
    ").subs(\n",
    "    diff(y, V),\n",
    "    y_V_symbolic\n",
    ").simplify()\n",
    "F_VT_subed"
   ]
  },
  {
   "cell_type": "markdown",
   "metadata": {},
   "source": [
    "## Подстановка производных $F$ в термодинамические функции\n",
    "\n",
    "Итак, мы имеем все производные. Теперь можно заняться термодинамическими величинами.\n",
    "Для этого стоит еще разок выписать их формулы:\n",
    "\n",
    "\n",
    "\n",
    "\\begin{align}\n",
    "    & p = - F_V \\\\\n",
    "    & S = -F_T \\\\ \n",
    "    & C_V = -T F_{TT} \\\\\n",
    "    & C_P = -T F_{TT} + T \\frac{(F_{VT})^2}{F_{VV}} \\\\\n",
    "    & C_T = V \\sqrt{F_{VV}} \\\\\n",
    "    & C_S = V \\sqrt{\\frac{T F_{VT}^2 + C_V F_{VV}}{C_V}}\n",
    "\\end{align}"
   ]
  },
  {
   "cell_type": "code",
   "execution_count": 24,
   "metadata": {},
   "outputs": [
    {
     "data": {
      "image/png": "[encoded data removed]",
      "text/latex": [
       "$$\\frac{2 \\sqrt{2} T^{\\frac{5}{2}} \\operatorname{I_{3/2}}{\\left (y \\right )}}{3 \\pi^{2} N}$$"
      ],
      "text/plain": [
       "      5/2               \n",
       "2⋅√2⋅T   ⋅I_3/2(y(T, V))\n",
       "────────────────────────\n",
       "            2           \n",
       "         3⋅π ⋅N         "
      ]
     },
     "execution_count": 24,
     "metadata": {},
     "output_type": "execute_result"
    }
   ],
   "source": [
    "p_symbolic = -F_V_subed\n",
    "p_symbolic"
   ]
  },
  {
   "cell_type": "code",
   "execution_count": 25,
   "metadata": {},
   "outputs": [
    {
     "data": {
      "image/png": "[encoded data removed]",
      "text/latex": [
       "$$\\frac{T^{\\frac{5}{2}} \\left(\\frac{1}{T}\\right)^{\\frac{3}{2}}}{V}$$"
      ],
      "text/plain": [
       "        3/2\n",
       " 5/2 ⎛1⎞   \n",
       "T   ⋅⎜─⎟   \n",
       "     ⎝T⎠   \n",
       "───────────\n",
       "     V     "
      ]
     },
     "execution_count": 25,
     "metadata": {},
     "output_type": "execute_result"
    }
   ],
   "source": [
    "# Асимптотика на p\n",
    "sub_fermi_asymp(p_symbolic, [S(3)/2], y).subs(exp(y), (2*pi/T)**(S(3)/2))"
   ]
  },
  {
   "cell_type": "code",
   "execution_count": 26,
   "metadata": {},
   "outputs": [
    {
     "data": {
      "image/png": "[encoded data removed]",
      "text/latex": [
       "$$- \\frac{\\sqrt{2} T^{\\frac{3}{2}} V \\left(3 \\operatorname{I_{1/2}}{\\left (y \\right )} y - 5 \\operatorname{I_{3/2}}{\\left (y \\right )}\\right)}{3 \\pi^{2} N}$$"
      ],
      "text/plain": [
       "     3/2                                                 \n",
       "-√2⋅T   ⋅V⋅(3⋅I_1/2(y(T, V))⋅y(T, V) - 5⋅I_3/2(y(T, V))) \n",
       "─────────────────────────────────────────────────────────\n",
       "                             2                           \n",
       "                          3⋅π ⋅N                         "
      ]
     },
     "execution_count": 26,
     "metadata": {},
     "output_type": "execute_result"
    }
   ],
   "source": [
    "S_symbolic = -F_T_subed\n",
    "S_symbolic"
   ]
  },
  {
   "cell_type": "code",
   "execution_count": 27,
   "metadata": {},
   "outputs": [
    {
     "data": {
      "image/png": "[encoded data removed]",
      "text/latex": [
       "$$T^{\\frac{3}{2}} \\left(- y + \\frac{5}{2}\\right) \\left(\\frac{1}{T}\\right)^{\\frac{3}{2}}$$"
      ],
      "text/plain": [
       "                         3/2\n",
       " 3/2                  ⎛1⎞   \n",
       "T   ⋅(-y(T, V) + 5/2)⋅⎜─⎟   \n",
       "                      ⎝T⎠   "
      ]
     },
     "execution_count": 27,
     "metadata": {},
     "output_type": "execute_result"
    }
   ],
   "source": [
    "# Асимптотика S\n",
    "sub_fermi_asymp(S_symbolic, [S(3)/2, S(1)/2], y).subs(exp(y), (2*pi/T)**(S(3)/2)).simplify()"
   ]
  },
  {
   "cell_type": "code",
   "execution_count": 28,
   "metadata": {},
   "outputs": [
    {
     "data": {
      "image/png": "[encoded data removed]",
      "text/latex": [
       "$$\\frac{\\sqrt{2} T^{\\frac{3}{2}} V \\left(5 \\operatorname{I_{-1/2}}{\\left (y \\right )} \\operatorname{I_{3/2}}{\\left (y \\right )} - 9 \\operatorname{I_{1/2}}^{2}{\\left (y \\right )}\\right)}{2 \\pi^{2} N \\operatorname{I_{-1/2}}{\\left (y \\right )}}$$"
      ],
      "text/plain": [
       "    3/2   ⎛                                          2         ⎞\n",
       "√2⋅T   ⋅V⋅⎝5⋅I_-1/2(y(T, V))⋅I_3/2(y(T, V)) - 9⋅I_1/2 (y(T, V))⎠\n",
       "────────────────────────────────────────────────────────────────\n",
       "                        2                                       \n",
       "                     2⋅π ⋅N⋅I_-1/2(y(T, V))                     "
      ]
     },
     "execution_count": 28,
     "metadata": {},
     "output_type": "execute_result"
    }
   ],
   "source": [
    "C_V_symbolic = (-T*F_TT_subed).simplify()\n",
    "C_V_symbolic"
   ]
  },
  {
   "cell_type": "code",
   "execution_count": 29,
   "metadata": {},
   "outputs": [
    {
     "data": {
      "image/png": "[encoded data removed]",
      "text/latex": [
       "$$\\frac{3}{2 T^{\\frac{3}{2}} \\left(\\frac{1}{T}\\right)^{\\frac{3}{2}}}$$"
      ],
      "text/plain": [
       "      3      \n",
       "─────────────\n",
       "          3/2\n",
       "   3/2 ⎛1⎞   \n",
       "2⋅T   ⋅⎜─⎟   \n",
       "       ⎝T⎠   "
      ]
     },
     "execution_count": 29,
     "metadata": {},
     "output_type": "execute_result"
    }
   ],
   "source": [
    "# Асимптотика C_V\n",
    "sub_fermi_asymp(C_V_symbolic, [S(i)/2 for i in range(-5, 6, 2)], y).subs(exp(y), (2*pi/T)**(S(3)/2))"
   ]
  },
  {
   "cell_type": "code",
   "execution_count": 30,
   "metadata": {},
   "outputs": [
    {
     "data": {
      "image/png": "[encoded data removed]",
      "text/latex": [
       "$$\\frac{5 \\sqrt{2} T^{\\frac{3}{2}} V \\left(5 \\operatorname{I_{-1/2}}{\\left (y \\right )} \\operatorname{I_{3/2}}{\\left (y \\right )} - 9 \\operatorname{I_{1/2}}^{2}{\\left (y \\right )}\\right) \\operatorname{I_{3/2}}{\\left (y \\right )}}{18 \\pi^{2} N \\operatorname{I_{1/2}}^{2}{\\left (y \\right )}}$$"
      ],
      "text/plain": [
       "      3/2   ⎛                                          2         ⎞            \n",
       "5⋅√2⋅T   ⋅V⋅⎝5⋅I_-1/2(y(T, V))⋅I_3/2(y(T, V)) - 9⋅I_1/2 (y(T, V))⎠⋅I_3/2(y(T, \n",
       "──────────────────────────────────────────────────────────────────────────────\n",
       "                                 2        2                                   \n",
       "                             18⋅π ⋅N⋅I_1/2 (y(T, V))                          \n",
       "\n",
       "   \n",
       "V))\n",
       "───\n",
       "   \n",
       "   "
      ]
     },
     "execution_count": 30,
     "metadata": {},
     "output_type": "execute_result"
    }
   ],
   "source": [
    "C_P_symbolic = (-T*F_TT_subed + T*F_VT_subed**2 / F_VV_subed).simplify()\n",
    "C_P_symbolic"
   ]
  },
  {
   "cell_type": "code",
   "execution_count": 31,
   "metadata": {},
   "outputs": [
    {
     "data": {
      "image/png": "[encoded data removed]",
      "text/latex": [
       "$$\\frac{5 T^{\\frac{3}{2}} \\left(\\frac{1}{T}\\right)^{\\frac{3}{2}}}{2}$$"
      ],
      "text/plain": [
       "          3/2\n",
       "   3/2 ⎛1⎞   \n",
       "5⋅T   ⋅⎜─⎟   \n",
       "       ⎝T⎠   \n",
       "─────────────\n",
       "      2      "
      ]
     },
     "execution_count": 31,
     "metadata": {},
     "output_type": "execute_result"
    }
   ],
   "source": [
    "# Асимптотика C_P\n",
    "sub_fermi_asymp(C_P_symbolic, [S(i)/2 for i in range(-5, 6, 2)], y).subs(exp(y), (2*pi/T)**(S(3)/2))"
   ]
  },
  {
   "cell_type": "code",
   "execution_count": 32,
   "metadata": {},
   "outputs": [
    {
     "data": {
      "image/png": "[encoded data removed]",
      "text/latex": [
       "$$\\frac{2^{\\frac{3}{4}} V \\sqrt{\\frac{T^{\\frac{5}{2}} \\operatorname{I_{1/2}}^{2}{\\left (y \\right )}}{N V \\operatorname{I_{-1/2}}{\\left (y \\right )}}}}{\\pi}$$"
      ],
      "text/plain": [
       "            ______________________\n",
       "           ╱  5/2      2          \n",
       " 3/4      ╱  T   ⋅I_1/2 (y(T, V)) \n",
       "2   ⋅V⋅  ╱   ──────────────────── \n",
       "       ╲╱    N⋅V⋅I_-1/2(y(T, V))  \n",
       "──────────────────────────────────\n",
       "                π                 "
      ]
     },
     "execution_count": 32,
     "metadata": {},
     "output_type": "execute_result"
    }
   ],
   "source": [
    "C_T_symbolic = (V*sqrt(F_VV_subed)).simplify()\n",
    "C_T_symbolic"
   ]
  },
  {
   "cell_type": "code",
   "execution_count": 33,
   "metadata": {},
   "outputs": [
    {
     "data": {
      "image/png": "[encoded data removed]",
      "text/latex": [
       "$$\\frac{1}{\\sqrt{T} \\left(\\frac{1}{T}\\right)^{\\frac{3}{2}}}$$"
      ],
      "text/plain": [
       "    1    \n",
       "─────────\n",
       "      3/2\n",
       "   ⎛1⎞   \n",
       "√T⋅⎜─⎟   \n",
       "   ⎝T⎠   "
      ]
     },
     "execution_count": 33,
     "metadata": {},
     "output_type": "execute_result"
    }
   ],
   "source": [
    "# Асимптотика C_T**2\n",
    "sub_fermi_asymp(C_T_symbolic**2, [S(i)/2 for i in range(-5, 6, 2)], y).subs(exp(y), (2*pi/T)**(S(3)/2))"
   ]
  },
  {
   "cell_type": "code",
   "execution_count": 34,
   "metadata": {
    "scrolled": true
   },
   "outputs": [
    {
     "data": {
      "image/png": "[encoded data removed]",
      "text/latex": [
       "$$\\frac{10 \\sqrt{2} T^{\\frac{5}{2}} V \\operatorname{I_{3/2}}{\\left (y \\right )}}{9 \\pi^{2} N}$$"
      ],
      "text/plain": [
       "       5/2                 \n",
       "10⋅√2⋅T   ⋅V⋅I_3/2(y(T, V))\n",
       "───────────────────────────\n",
       "              2            \n",
       "           9⋅π ⋅N          "
      ]
     },
     "execution_count": 34,
     "metadata": {},
     "output_type": "execute_result"
    }
   ],
   "source": [
    "C_S_symbolic = (V*sqrt((T*F_VT_subed**2+C_V_symbolic*F_VV_subed)/C_V_symbolic)).simplify()\n",
    "C_S_symbolic**2"
   ]
  },
  {
   "cell_type": "code",
   "execution_count": 35,
   "metadata": {},
   "outputs": [
    {
     "data": {
      "image/png": "[encoded data removed]",
      "text/latex": [
       "$$\\frac{5 T^{\\frac{5}{2}} \\left(\\frac{1}{T}\\right)^{\\frac{3}{2}}}{3}$$"
      ],
      "text/plain": [
       "          3/2\n",
       "   5/2 ⎛1⎞   \n",
       "5⋅T   ⋅⎜─⎟   \n",
       "       ⎝T⎠   \n",
       "─────────────\n",
       "      3      "
      ]
     },
     "execution_count": 35,
     "metadata": {},
     "output_type": "execute_result"
    }
   ],
   "source": [
    "# Асимптотика C_S**2\n",
    "sub_fermi_asymp(C_S_symbolic**2, [S(3)/2], y).subs(exp(y), (2*pi/T)**(S(3)/2))"
   ]
  },
  {
   "cell_type": "markdown",
   "metadata": {},
   "source": [
    "Везде $y = \\mu / T$, а все величины в атомной системе единиц."
   ]
  }
 ],
 "metadata": {
  "kernelspec": {
   "display_name": "Python 3",
   "language": "python",
   "name": "python3"
  },
  "language_info": {
   "codemirror_mode": {
    "name": "ipython",
    "version": 3
   },
   "file_extension": ".py",
   "mimetype": "text/x-python",
   "name": "python",
   "nbconvert_exporter": "python",
   "pygments_lexer": "ipython3",
   "version": "3.7.1"
  },
  "pycharm": {
   "stem_cell": {
    "cell_type": "raw",
    "metadata": {
     "collapsed": false
    },
    "source": []
   }
  }
 },
 "nbformat": 4,
 "nbformat_minor": 1
}
